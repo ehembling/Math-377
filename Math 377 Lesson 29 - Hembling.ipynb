{
 "cells": [
  {
   "cell_type": "code",
   "execution_count": 1,
   "metadata": {},
   "outputs": [],
   "source": [
    "from datascience import *\n",
    "import numpy as np\n",
    "from math import *\n",
    "from scipy import stats\n",
    "import matplotlib.pyplot as plt\n",
    "%matplotlib inline"
   ]
  },
  {
   "cell_type": "markdown",
   "metadata": {},
   "source": [
    "## Lesson 29: Maximum Likelihood Estimation"
   ]
  },
  {
   "cell_type": "markdown",
   "metadata": {},
   "source": [
    "Last lesson, we studied method of moments estimators. These estimators are obtained by setting the moments of a distribution equal to the sample moments obtained from an independent random sample, and then solving for the parameters of interest. As we saw, method of moments estimators are relatively easy to find, but don't always make sense (as in the case of $X\\sim \\textsf{Unif}(0,b)$.) \n",
    "\n",
    "Another way to estimate is by maximizing the likelihood function. First, we should introduce the likelihood function. The likelihood function, $L(\\theta \\mid \\textbf{x})$, is a function of $\\theta$ that is larger for likelier values of $\\theta$. Finding the value of $\\theta$ that maximizes this function yields a maximum likelihood estimator, or $\\hat{\\theta}_{ML}$. \n",
    "\n",
    "Let $X_1,X_2,...,X_n$ be a sequence of iid random variables with mass or density function $f(x;\\theta)$. The likelihood function is given by:\n",
    "\n",
    "$$\n",
    "L(\\theta\\mid \\textbf{x}) = \\prod_{i=1}^n f(x_i;\\theta)\n",
    "$$\n",
    "\n",
    "Often, it is easier to deal with the log of the likelihood function. This is because the log of a product is the sum of individual logs, which is often analytically \"nicer\". The log-likelihood function is denoted as $l(\\theta \\mid \\textbf{x})$ and is given by:\n",
    "\n",
    "$$\n",
    "l(\\theta\\mid\\textbf{x})=\\log \\prod_{i=1}^n f(x_i;\\theta) = \\sum_{i=1}^n \\log f(x_i;\\theta)\n",
    "$$\n",
    " "
   ]
  },
  {
   "cell_type": "markdown",
   "metadata": {},
   "source": [
    "### Example 1: Exponential Distribution\n",
    "\n",
    "Suppose $X_1,X_2,...,X_n$ is an iid sequence of random variables from the exponential distribution with unknown parameter $\\lambda$. I would like to obtain $\\hat{\\lambda}_{ML}$, the maximum likelihood estimate of $\\lambda$. "
   ]
  },
  {
   "cell_type": "markdown",
   "metadata": {},
   "source": [
    "Recall that if $X\\sim \\textsf{Exp}(\\lambda)$, then $f(x)=\\lambda e^{-\\lambda x}$. So,\n",
    "\n",
    "$$\n",
    "L(\\theta\\mid \\textbf{x}) = \\prod_{i=1}^n f(x_i;\\theta) = \\prod_{i=1}^n \\lambda e^{-\\lambda x_i} = \\lambda^n e^{-\\lambda \\sum x_i}\n",
    "$$\n",
    "\n",
    "Maximizing this through differentiation looks difficult. Let's consider the log-likelihood instead: \n",
    "\n",
    "$$\n",
    "l(\\theta\\mid \\textbf{x}) = n \\log \\lambda - \\lambda \\sum x_i\n",
    "$$\n",
    "\n",
    "This looks easier. Take the derivative with respect to $\\lambda$ and set to 0. Then solve for $\\lambda$. I leave this next step to you. How does your answer compare to $\\hat{\\lambda}_{MoM}$? "
   ]
  },
  {
   "cell_type": "markdown",
   "metadata": {},
   "source": [
    "The derivative set equal to zero yields: $$\n",
    "0 = {n \\over \\lambda }-  \\sum x_i\n",
    "$$\n",
    "Solving for $\\lambda$ yields\n",
    "$$ \\lambda = {n \\over \\bar{X}n} = {1 \\over \\bar{X}} $$\n",
    "\n",
    "This yields the same answer as the Method of Moments estimator."
   ]
  },
  {
   "cell_type": "markdown",
   "metadata": {},
   "source": [
    "### Example 2: Uniform Distribution\n",
    "\n",
    "Suppose $X_1,X_2,...,X_n$ is an iid sequence of random variables from the continuous uniform distribution on $0 \\leq X \\leq b$ with unknown parameter $b$. I would like to obtain $\\hat{b}_{ML}$, the maximum likelihood estimate of $b$. "
   ]
  },
  {
   "cell_type": "markdown",
   "metadata": {},
   "source": [
    "This one is trickier since the domain of $X$ depends on the parameter we are trying to estimate. So I will start you off with a hint. The pdf of $X$ is $f(x)=\\frac{1}{b}$ where $0\\leq x \\leq b$ and 0 otherwise. Another way to write this is with indicator functions:\n",
    "\n",
    "$$\n",
    "f(x)={1\\over b}I(x\\leq b)\n",
    "$$\n",
    "\n",
    "where $I(x\\leq b)$ is equal to 1 if $x \\leq b$ and 0 otherwise. "
   ]
  },
  {
   "cell_type": "markdown",
   "metadata": {},
   "source": [
    "The likelihood function of this distribution is merely the pdf multiplied together for each $x_i$ in the data set. Thus, if $ f(x_i) $= 0 for any value of $x_i$, then the likelihood function equals 0. Thus, if b is less than the largest number in the dataset, the likelihood function will equal 0 because there exists an $x_i$ larger than b and $f(x_i) = 0$. Thus, b must be atleast the max value in the dataset to get a non-zero likelihood. Furthrmore, the likelihood function (assuming all $x_i$'s are less than or equal to b) becomes ${1 \\over b^n}$. Thus, as b becomes larger, the likelihood function decreases in value. Therefore, the minimum b for which the likelihood function is non-zero maximizes it. Hence, b = maximum value in the dataset of x's."
   ]
  },
  {
   "cell_type": "markdown",
   "metadata": {},
   "source": [
    "### Example 3: Binomial Distribution\n",
    "\n",
    "Suppose $X_1,X_2,...,X_n$ is an iid sequence of random variables with the binomial distribution with 20 trials and unknown probability of success $\\pi$. Find the maximum likelihood estimate of $\\pi$. "
   ]
  },
  {
   "cell_type": "markdown",
   "metadata": {},
   "source": [
    "$$ L(\\pi\\mid \\textbf{x}) = \\prod_{i=1}^n f(x_i;\\pi) = \\prod_{i=1}^n {20 \\choose x_i}\\pi^{x_i}(1-\\pi)^{20-x_i}\n",
    "$$\n",
    "$$ = {{20n \\choose {\\sum x_i}}} \\pi^{\\sum x_i}(1-\\pi)^{\\sum ({20-x_i})} \n",
    "$$\n",
    "\n",
    "We now consider the log likelihood:\n",
    "$$log( {{20n \\choose {\\sum x_i}}} \\pi^{\\sum x_i}(1-\\pi)^{\\sum ({20-x_i})}  ) = log({{20n \\choose {\\sum x_i}}}) + {n\\bar{X}}log(\\pi) + ({20n-n\\bar{X}})log(1-\\pi)\n",
    "$$\n",
    "\n",
    "Taking the derivative with respect to $\\pi$ and setting the expression equal to zero:\n",
    "$$ {{n\\bar{X}}\\over \\pi} + {-({20n-n\\bar{X}}) \\over (1-\\pi)} = 0\n",
    "$$\n",
    "$$ {{n\\bar{X}}\\over \\pi} = {({20n-n\\bar{X}}) \\over (1-\\pi)}\n",
    "$$ \n",
    "$$ (n\\bar{X})(1-\\pi) = (20n - n\\bar{X})\\pi = n\\bar{X} - n\\bar{X}\\pi = 20n\\pi - n\\bar{X}\\pi\n",
    "$$\n",
    "Adding $\\pi n\\bar{X}$ to both sides yields:\n",
    "$$ n\\bar{X} = 20n\\pi\n",
    "$$\n",
    "Thus,\n",
    "$$ \\pi = {\\bar{X} \\over 20}\n",
    "$$"
   ]
  },
  {
   "cell_type": "markdown",
   "metadata": {},
   "source": [
    "Documentation: I worked through Examples 2 and 3 with the help of Dr. Warner."
   ]
  }
 ],
 "metadata": {
  "kernelspec": {
   "display_name": "Python 3",
   "language": "python",
   "name": "python3"
  },
  "language_info": {
   "codemirror_mode": {
    "name": "ipython",
    "version": 3
   },
   "file_extension": ".py",
   "mimetype": "text/x-python",
   "name": "python",
   "nbconvert_exporter": "python",
   "pygments_lexer": "ipython3",
   "version": "3.6.5"
  }
 },
 "nbformat": 4,
 "nbformat_minor": 2
}
