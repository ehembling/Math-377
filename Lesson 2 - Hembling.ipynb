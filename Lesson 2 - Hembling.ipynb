{
 "cells": [
  {
   "cell_type": "markdown",
   "metadata": {},
   "source": [
    "# Lesson 2 Notebook by C3C Eric Hembling"
   ]
  },
  {
   "cell_type": "code",
   "execution_count": 9,
   "metadata": {
    "scrolled": true
   },
   "outputs": [
    {
     "name": "stdout",
     "output_type": "stream",
     "text": [
      "1) As defined by the book, 'data Science is the discipline of drawing conclusions from data using computation.' In other words, data science allows us to take any of the large sets of data available to us from the world around us and intelligently make statements and/or conclusions about that data with the help of computational tools and devices.\n"
     ]
    }
   ],
   "source": [
    "# Printing my definition of data science\n",
    "print(\"1) As defined by the book, 'data Science is the discipline of drawing conclusions from data using computation.' In other words, data science allows us to take any of the large sets of data available to us from the world around us and intelligently make statements and/or conclusions about that data with the help of computational tools and devices.\")"
   ]
  },
  {
   "cell_type": "code",
   "execution_count": 10,
   "metadata": {},
   "outputs": [
    {
     "name": "stdout",
     "output_type": "stream",
     "text": [
      "2) The three focus areas in this course are: exploration, prediction, and inference as stated by the book and the course letter.\n"
     ]
    }
   ],
   "source": [
    "#printing the three focus areas of the course\n",
    "print(\"2) The three focus areas in this course are: exploration, prediction, and inference as stated by the book and the course letter.\")"
   ]
  },
  {
   "cell_type": "code",
   "execution_count": 11,
   "metadata": {},
   "outputs": [
    {
     "name": "stdout",
     "output_type": "stream",
     "text": [
      "4) \n",
      "a = 3 \n",
      "b = 4\n"
     ]
    }
   ],
   "source": [
    "# initializing a to 3 and b to 4 and then printing a string to show the values of each\n",
    "a = 3\n",
    "b = 4\n",
    "print(\"4) \\na = 3 \\nb = 4\")"
   ]
  },
  {
   "cell_type": "code",
   "execution_count": 12,
   "metadata": {},
   "outputs": [
    {
     "name": "stdout",
     "output_type": "stream",
     "text": [
      "7\n"
     ]
    }
   ],
   "source": [
    "#summing two numbers and printing the output\n",
    "c = a+b\n",
    "print(c)"
   ]
  },
  {
   "cell_type": "code",
   "execution_count": 13,
   "metadata": {},
   "outputs": [
    {
     "name": "stdout",
     "output_type": "stream",
     "text": [
      "12\n"
     ]
    }
   ],
   "source": [
    "#multiplying two numbers and printign the output\n",
    "d = a*b\n",
    "print(d)"
   ]
  },
  {
   "cell_type": "code",
   "execution_count": 14,
   "metadata": {},
   "outputs": [
    {
     "data": {
      "text/plain": [
       "1.7142857142857142"
      ]
     },
     "execution_count": 14,
     "metadata": {},
     "output_type": "execute_result"
    }
   ],
   "source": [
    "#dividing two numbers\n",
    "d/c"
   ]
  },
  {
   "cell_type": "code",
   "execution_count": 15,
   "metadata": {},
   "outputs": [
    {
     "name": "stdout",
     "output_type": "stream",
     "text": [
      "5) Eric Hembling👍\n"
     ]
    }
   ],
   "source": [
    "#printing my name followed by a unicode thumbs up symbol\n",
    "print(\"5) Eric Hembling\" u\"\\U0001F44D\")\n",
    "#I got that unicode reference for a thumbs up from http://www.fileformat.info/info/unicode/char/1F44D/index.htm"
   ]
  },
  {
   "cell_type": "code",
   "execution_count": 16,
   "metadata": {},
   "outputs": [
    {
     "name": "stdout",
     "output_type": "stream",
     "text": [
      "6) Although ice cream sales and violent crime rates are correlated (have an association), this does not mean that there is a causal relationship between the two. Both factors could be tied to more affluent areas with no direct connection between the two. An experiment would be needed to establish causality.\n"
     ]
    }
   ],
   "source": [
    "#printing my answer to question 6\n",
    "print(\"6) Although ice cream sales and violent crime rates are correlated (have an association), this does not mean that there is a causal relationship between the two. Both factors could be tied to more affluent areas with no direct connection between the two. An experiment would be needed to establish causality.\")"
   ]
  },
  {
   "cell_type": "code",
   "execution_count": 17,
   "metadata": {},
   "outputs": [
    {
     "name": "stdout",
     "output_type": "stream",
     "text": [
      "7) Observational studies are based on data collected and draw conclusions about that data. On the other hand, experiments are designed or occur naturally such that two or more groups of similar subjects are exposed or not exposed to a particular treatment or multiple treatments in order to collect data on the effects of the treatment(s). The groups must be similar in composition so that the differences in the results of the experiment can be attributed to the difference in treatments and not other confounding variables. Well-planned experiments can prove causality whereas observational studies can only help researchers idenitfy associations.\n"
     ]
    }
   ],
   "source": [
    "#printing my answer to question 7\n",
    "print(\"7) Observational studies are based on data collected and draw conclusions about that data. On the other hand, experiments are designed or occur naturally such that two or more groups of similar subjects are exposed or not exposed to a particular treatment or multiple treatments in order to collect data on the effects of the treatment(s). The groups must be similar in composition so that the differences in the results of the experiment can be attributed to the difference in treatments and not other confounding variables. Well-planned experiments can prove causality whereas observational studies can only help researchers idenitfy associations.\")"
   ]
  },
  {
   "cell_type": "code",
   "execution_count": 18,
   "metadata": {},
   "outputs": [],
   "source": [
    "#Documentation: Only the sources cited throughout were used."
   ]
  }
 ],
 "metadata": {
  "kernelspec": {
   "display_name": "Python 3",
   "language": "python",
   "name": "python3"
  },
  "language_info": {
   "codemirror_mode": {
    "name": "ipython",
    "version": 3
   },
   "file_extension": ".py",
   "mimetype": "text/x-python",
   "name": "python",
   "nbconvert_exporter": "python",
   "pygments_lexer": "ipython3",
   "version": "3.6.5"
  }
 },
 "nbformat": 4,
 "nbformat_minor": 2
}
