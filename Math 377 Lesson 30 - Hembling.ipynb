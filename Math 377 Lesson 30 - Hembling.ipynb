{
 "cells": [
  {
   "cell_type": "code",
   "execution_count": 1,
   "metadata": {},
   "outputs": [],
   "source": [
    "from datascience import *\n",
    "import numpy as np\n",
    "from math import *\n",
    "from scipy import stats\n",
    "import matplotlib.pyplot as plt\n",
    "%matplotlib inline"
   ]
  },
  {
   "cell_type": "markdown",
   "metadata": {},
   "source": [
    "## Lesson 30: Properties of Estimators"
   ]
  },
  {
   "cell_type": "markdown",
   "metadata": {},
   "source": [
    "Now that we have seen two different ways to obtain parameter estimates, we will now look into ways to evaluate estimators. What makes an estimator a good estimator? We have briefly discussed bias, but we'll also discuss consistency. "
   ]
  },
  {
   "cell_type": "markdown",
   "metadata": {},
   "source": [
    "### Bias\n",
    "\n",
    "(Review from Lesson 28). If we use an iid random sample to obtain an estimate of some parameter $\\theta$, this estimate ($\\hat{\\theta}$) is a random variable. Each time I collect a new sample, I will get a different $\\hat{\\theta}$. Ideally, the distribution of this $\\hat{\\theta}$ should have an average (expected value) of $\\theta$. \n",
    "\n",
    "If $E(\\hat{\\theta})=\\theta$, then $\\hat{\\theta}$ is said to be unbiased. "
   ]
  },
  {
   "cell_type": "markdown",
   "metadata": {},
   "source": [
    "### Example 1: Uniform Distribution\n",
    "\n",
    "Suppose $X_1,X_2,...,X_n$ is an iid sequence of random variables from the continuous uniform distribution on the domain $0 \\leq X \\leq b$ with unknown parameter $b$. From lessons 28, we found that the method of moments estimate of $b$ is $2\\bar{X}$. \n",
    "\n",
    "Is this estimate biased? Particularly, find $E(2\\bar{X})$. \n"
   ]
  },
  {
   "cell_type": "markdown",
   "metadata": {},
   "source": [
    "$$E(2\\bar{X}) = 2E(\\bar(X)) = 2E({{\\sum x_i} \\over n}) = {2 \\over n}E({\\sum x_i}) = {2 \\over n}{\\sum E(x_i)} = {2 \\over n}{\\sum {b \\over 2}}\n",
    "$$\n",
    "$$ = {2bn \\over 2n} = b\n",
    "$$"
   ]
  },
  {
   "cell_type": "markdown",
   "metadata": {},
   "source": [
    "### Example 2: Exponential Distribution\n",
    "\n",
    "Suppose $X_1,X_2,...,X_n$ is an iid sequence of random variables from the exponential distribution with unknown parameter $\\lambda$. From lessons 28 and 29, we found that the method of moments and maximum likelihood estimates are both $\\frac{1}{\\bar{X}}$. \n",
    "\n",
    "Is this estimate biased? For this exercise, assume $\\lambda=5$ and the size of each sample is 20. You will probably find it easier to do this via simulation (use `scipy` to generate a random sample from the exponential distribution with your choice of $\\lambda$. Use this sample to obtain the estimate. Repeat this process many times to get a distribution $\\hat{\\lambda}$.) "
   ]
  },
  {
   "cell_type": "code",
   "execution_count": 9,
   "metadata": {},
   "outputs": [
    {
     "name": "stderr",
     "output_type": "stream",
     "text": [
      "C:\\Users\\C20Eric.Hembling\\Documents\\Anaconda\\lib\\site-packages\\matplotlib\\axes\\_axes.py:6462: UserWarning: The 'normed' kwarg is deprecated, and has been replaced by the 'density' kwarg.\n",
      "  warnings.warn(\"The 'normed' kwarg is deprecated, and has been \"\n"
     ]
    },
    {
     "data": {
      "text/plain": [
       "5.259739233093787"
      ]
     },
     "execution_count": 9,
     "metadata": {},
     "output_type": "execute_result"
    },
    {
     "data": {
      "image/png": "[encoded data removed]",
      "text/plain": [
       "<Figure size 432x288 with 1 Axes>"
      ]
     },
     "metadata": {},
     "output_type": "display_data"
    }
   ],
   "source": [
    "lambda_estimates = make_array()\n",
    "for i in np.arange(100000):\n",
    "    lambda_estimates = np.append(lambda_estimates, 1/np.mean(stats.expon.rvs(scale = 1/5,size=20)))\n",
    "    \n",
    "Table().with_column('lams',lambda_estimates).hist(bins = np.arange(12))\n",
    "np.mean(lambda_estimates)"
   ]
  },
  {
   "cell_type": "markdown",
   "metadata": {},
   "source": [
    "For 100,000 samples of size 20 generated from a $\\lambda$ of 5, our estimator ${1 \\over \\bar{X}} \\approx 5.26$. As it is not on average equal to $\\lambda$, it is a biased estimator."
   ]
  },
  {
   "cell_type": "markdown",
   "metadata": {},
   "source": [
    "## Consistency\n",
    "\n",
    "An estimator is considered consistent if for any $\\epsilon >0$, \n",
    "\n",
    "$$\n",
    "\\underset{n \\to \\infty}{\\lim} P(|\\hat{\\theta}_n -\\theta|<\\epsilon)=1\n",
    "$$\n",
    "\n",
    "This is just a fancy way of saying that as $n$ increases, the estimator tends to get closer to $\\theta$. "
   ]
  },
  {
   "cell_type": "markdown",
   "metadata": {},
   "source": [
    "### Lemma\n",
    "\n",
    "An estimator is consistent if it is unbiased and if $\\underset{n \\to \\infty}{\\lim} Var(\\hat{\\theta}_n)=0$. In other words, an unbiased estimator is consistent if its variance goes to zero as sample size goes to infinity. "
   ]
  },
  {
   "cell_type": "markdown",
   "metadata": {},
   "source": [
    "### Example 3: Uniform Distribution\n",
    "\n",
    "In Example 1, we showed that the method of moments estimator for $b$ is unbiased. Is it also consistent? What is the variance of this estimator? What happens to this variance as $n$ increases? "
   ]
  },
  {
   "cell_type": "markdown",
   "metadata": {},
   "source": [
    "If $\\hat{\\mu}_{MoM}$ is consistent, then\n",
    "$$\\underset{n \\to \\infty}{\\lim} Var(\\hat{\\mu}_{MoM})=0$$\n",
    "and\n",
    "$$\\underset{n \\to \\infty}{\\lim} Var(2\\bar{X})=0$$\n",
    "The variance of $\\hat{\\mu}_{MoM}$ is:\n",
    "$$ Var(2\\bar{X}) = 4Var(\\bar{X}) = 4Var({{\\sum X_i} \\over n}) = {4 \\over n^2}Var({\\sum X_i}) \n",
    "$$\n",
    "$$ = {4 \\over n^2}{\\sum Var(X_i)} = {4 \\over n^2}{\\sum {b^2 \\over 12}} = {4nb^2 \\over 12n^2} = {b^2 \\over 3n}\n",
    "$$\n",
    "Thus,\n",
    "\n",
    "$$ \\underset{n \\to \\infty}{\\lim} Var(\\hat{\\mu}_{MoM})= \\underset{n \\to \\infty}{\\lim} {b^2 \\over 3n}  = 0\n",
    "$$\n",
    "Therefore, $\\hat{\\mu}_{MoM}$ is consistent. Below a simulation with a population b of 5 demonstrates this."
   ]
  },
  {
   "cell_type": "code",
   "execution_count": 4,
   "metadata": {},
   "outputs": [
    {
     "data": {
      "image/png": "[encoded data removed]",
      "text/plain": [
       "<Figure size 432x288 with 1 Axes>"
      ]
     },
     "metadata": {},
     "output_type": "display_data"
    }
   ],
   "source": [
    "a = 0\n",
    "b = 5\n",
    "varslog = make_array()\n",
    "for i in np.arange(1,10001):\n",
    "    sample_estimates = make_array()\n",
    "    for n in np.arange(100):\n",
    "        sample_estimates = np.append(sample_estimates,2*np.mean(stats.uniform.rvs(loc = a, scale = b,size = i)))\n",
    "    varslog = np.append(varslog,np.var(sample_estimates))\n",
    "    \n",
    "Table().with_column('Sample Size',np.arange(1,10001)).with_column('Variances',varslog).plot(0)"
   ]
  },
  {
   "cell_type": "markdown",
   "metadata": {},
   "source": [
    "### Example 4: Normal Distribution\n",
    "\n",
    "Suppose $X_1,X_2,...,X_n$ is an iid sequence of random variables from the normal distribution with unknown mean and standard deviation. The method of moments (and maximum likelihood) estimator of $\\mu$ is simply $\\bar{X}$. We have already established that this estimate is unbiased. Is it consistent? "
   ]
  },
  {
   "cell_type": "markdown",
   "metadata": {},
   "source": [
    "If $\\hat{\\mu}_{MoM}$ is consistent, then\n",
    "$$\\underset{n \\to \\infty}{\\lim} Var(\\hat{\\mu}_{MoM})=0$$\n",
    "and\n",
    "$$\\underset{n \\to \\infty}{\\lim} Var(\\bar{X})=0.$$\n",
    "The variance of $\\hat{\\mu}_{MoM}$ is:\n",
    "$$ Var(\\bar{X}) = Var({{\\sum X_i} \\over n}) = {1 \\over n^2}Var({\\sum X_i}) \n",
    "$$\n",
    "$$ = {1 \\over n^2}{\\sum Var(X_i)} = {1 \\over n^2}{\\sum \\sigma^2} = {n\\sigma^2 \\over n^2} = {\\sigma^2 \\over n}\n",
    "$$\n",
    "Thus,\n",
    "\n",
    "$$ \\underset{n \\to \\infty}{\\lim} Var(\\hat{\\mu}_{MoM})= \\underset{n \\to \\infty}{\\lim} {\\sigma^2 \\over n}  = 0\n",
    "$$\n",
    "Therefore, $\\hat{\\mu}_{MoM}$ is consistent. Below a simulation with a population $\\mu$ of 5 demonstrates this."
   ]
  },
  {
   "cell_type": "code",
   "execution_count": 10,
   "metadata": {},
   "outputs": [
    {
     "data": {
      "image/png": "[encoded data removed]",
      "text/plain": [
       "<Figure size 432x288 with 1 Axes>"
      ]
     },
     "metadata": {},
     "output_type": "display_data"
    }
   ],
   "source": [
    "mu = 5\n",
    "varslog1 = make_array()\n",
    "for i in np.arange(1,10001):\n",
    "    sample_estimates1 = make_array()\n",
    "    for n in np.arange(100):\n",
    "        sample_estimates1 = np.append(sample_estimates1,np.mean(stats.norm.rvs(loc = mu,size = i)))\n",
    "    varslog1 = np.append(varslog1,np.var(sample_estimates1))\n",
    "    \n",
    "Table().with_column('Sample Size',np.arange(1,10001)).with_column('Variances',varslog).plot(0)"
   ]
  },
  {
   "cell_type": "markdown",
   "metadata": {},
   "source": [
    "## Weak Law of Large Numbers\n",
    "\n",
    "It turns out that for all distributions, the sample mean is a consistent estimator for the population mean. This is known as the Weak Law of Large Numbers. "
   ]
  },
  {
   "cell_type": "code",
   "execution_count": 6,
   "metadata": {},
   "outputs": [
    {
     "data": {
      "image/png": "[encoded data removed]",
      "text/plain": [
       "<Figure size 432x288 with 1 Axes>"
      ]
     },
     "metadata": {},
     "output_type": "display_data"
    }
   ],
   "source": [
    "ns=np.arange(1,10001)\n",
    "samp=stats.norm.rvs(5,6,size=10000)\n",
    "sampmeans=np.cumsum(samp)/ns\n",
    "plt.plot(ns,sampmeans)\n",
    "plt.show()"
   ]
  },
  {
   "cell_type": "markdown",
   "metadata": {},
   "source": [
    "Documentation: I discussed the analytical solutions to Examples 3 and 4, but solved them on my own."
   ]
  }
 ],
 "metadata": {
  "kernelspec": {
   "display_name": "Python 3",
   "language": "python",
   "name": "python3"
  },
  "language_info": {
   "codemirror_mode": {
    "name": "ipython",
    "version": 3
   },
   "file_extension": ".py",
   "mimetype": "text/x-python",
   "name": "python",
   "nbconvert_exporter": "python",
   "pygments_lexer": "ipython3",
   "version": "3.6.5"
  }
 },
 "nbformat": 4,
 "nbformat_minor": 2
}
