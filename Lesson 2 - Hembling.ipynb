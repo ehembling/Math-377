{
 "cells": [
  {
   "cell_type": "code",
   "execution_count": 37,
   "metadata": {},
   "outputs": [
    {
     "name": "stdout",
     "output_type": "stream",
     "text": [
      "1) As defined by the book, 'data Science is the discipline of drawing conclusions from data using computation.' In other words, data science allows us to take any of the large sets of data available to us from the world around us and intelligently make statements and/or conclusions about that data with the help of computational tools and devices.\n"
     ]
    }
   ],
   "source": [
    "print(\"1) As defined by the book, 'data Science is the discipline of drawing conclusions from data using computation.' In other words, data science allows us to take any of the large sets of data available to us from the world around us and intelligently make statements and/or conclusions about that data with the help of computational tools and devices.\")"
   ]
  },
  {
   "cell_type": "code",
   "execution_count": 38,
   "metadata": {},
   "outputs": [
    {
     "name": "stdout",
     "output_type": "stream",
     "text": [
      "2) The three focus areas in this course are: exploration, prediction, and inference as stated by the book and the course letter.\n"
     ]
    }
   ],
   "source": [
    "print(\"2) The three focus areas in this course are: exploration, prediction, and inference as stated by the book and the course letter.\")\n"
   ]
  },
  {
   "cell_type": "code",
   "execution_count": 39,
   "metadata": {},
   "outputs": [
    {
     "name": "stdout",
     "output_type": "stream",
     "text": [
      "4) \n",
      "a = 3 \n",
      "b = 4\n"
     ]
    }
   ],
   "source": [
    "print(\"4) \\na = 3 \\nb = 4\")"
   ]
  },
  {
   "cell_type": "code",
   "execution_count": 40,
   "metadata": {},
   "outputs": [
    {
     "name": "stdout",
     "output_type": "stream",
     "text": [
      "7\n"
     ]
    }
   ],
   "source": [
    "c = a+b\n",
    "print(c)"
   ]
  },
  {
   "cell_type": "code",
   "execution_count": 28,
   "metadata": {},
   "outputs": [
    {
     "name": "stdout",
     "output_type": "stream",
     "text": [
      "12\n"
     ]
    }
   ],
   "source": [
    "d = a*b\n",
    "print(d)"
   ]
  },
  {
   "cell_type": "code",
   "execution_count": 41,
   "metadata": {},
   "outputs": [
    {
     "data": {
      "text/plain": [
       "1.7142857142857142"
      ]
     },
     "execution_count": 41,
     "metadata": {},
     "output_type": "execute_result"
    }
   ],
   "source": [
    "d/c"
   ]
  },
  {
   "cell_type": "code",
   "execution_count": 42,
   "metadata": {},
   "outputs": [
    {
     "name": "stdout",
     "output_type": "stream",
     "text": [
      "5) Eric Hembling👍\n",
      "I got that unicode reference for a thumbs up from http://www.fileformat.info/info/unicode/char/1F44D/index.htm\n"
     ]
    }
   ],
   "source": [
    "print(\"5) Eric Hembling\" u\"\\U0001F44D\")\n",
    "print('I got that unicode reference for a thumbs up from http://www.fileformat.info/info/unicode/char/1F44D/index.htm')"
   ]
  },
  {
   "cell_type": "code",
   "execution_count": 43,
   "metadata": {},
   "outputs": [
    {
     "name": "stdout",
     "output_type": "stream",
     "text": [
      "6) Although ice cream sales and violent crime rates are correlated (have an association), this does not mean that there is a causal relationship between the two. Both factors could be tied to more affluent areas with no direct connection between the two. An experiment would be needed to establish causality.\n"
     ]
    }
   ],
   "source": [
    "print(\"6) Although ice cream sales and violent crime rates are correlated (have an association), this does not mean that there is a causal relationship between the two. Both factors could be tied to more affluent areas with no direct connection between the two. An experiment would be needed to establish causality.\")"
   ]
  },
  {
   "cell_type": "code",
   "execution_count": 47,
   "metadata": {},
   "outputs": [
    {
     "name": "stdout",
     "output_type": "stream",
     "text": [
      "7) Observational studies are based on data collected and draw conclusions about that data. On the other hand, experiments are designed or occur naturally such that two or more groups of similar subjects are exposed or not exposed to a particular treatment or multiple treatments in order to collect data on the effects of the treatment(s). The groups must be similar in composition so that the differences in the results of the experiment can be attributed to the difference in treatments and not other confounding variables. Well-planned experiments can prove causality whereas observational studies can only help researchers idenitfy associations.\n"
     ]
    }
   ],
   "source": [
    "print(\"7) Observational studies are based on data collected and draw conclusions about that data. On the other hand, experiments are designed or occur naturally such that two or more groups of similar subjects are exposed or not exposed to a particular treatment or multiple treatments in order to collect data on the effects of the treatment(s). The groups must be similar in composition so that the differences in the results of the experiment can be attributed to the difference in treatments and not other confounding variables. Well-planned experiments can prove causality whereas observational studies can only help researchers idenitfy associations.\")"
   ]
  },
  {
   "cell_type": "code",
   "execution_count": 48,
   "metadata": {},
   "outputs": [
    {
     "name": "stdout",
     "output_type": "stream",
     "text": [
      "Documentation: Only the sources cited throughout were used.\n"
     ]
    }
   ],
   "source": [
    "print(\"Documentation: Only the sources cited throughout were used.\")"
   ]
  },
  {
   "cell_type": "code",
   "execution_count": null,
   "metadata": {},
   "outputs": [],
   "source": []
  }
 ],
 "metadata": {
  "kernelspec": {
   "display_name": "Python 3",
   "language": "python",
   "name": "python3"
  },
  "language_info": {
   "codemirror_mode": {
    "name": "ipython",
    "version": 3
   },
   "file_extension": ".py",
   "mimetype": "text/x-python",
   "name": "python",
   "nbconvert_exporter": "python",
   "pygments_lexer": "ipython3",
   "version": "3.6.5"
  }
 },
 "nbformat": 4,
 "nbformat_minor": 2
}
