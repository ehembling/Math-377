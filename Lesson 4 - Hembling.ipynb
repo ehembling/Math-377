{
 "cells": [
  {
   "cell_type": "code",
   "execution_count": 68,
   "metadata": {},
   "outputs": [],
   "source": [
    "Name = 'Eric Hembling'\n",
    "Age = 20\n",
    "Hometown = 'Lake Jackson, TX'"
   ]
  },
  {
   "cell_type": "code",
   "execution_count": 69,
   "metadata": {},
   "outputs": [
    {
     "name": "stdout",
     "output_type": "stream",
     "text": [
      "I am Eric Hembling. I am 20 years old. I'm from Lake Jackson, TX.\n"
     ]
    }
   ],
   "source": [
    "Str1 = \"I am %s. I am %d years old. I'm from %s.\" % (Name, Age, Hometown)\n",
    "print(Str1)\n",
    "#https://learnpythonthehardway.org/book/ex6.html"
   ]
  },
  {
   "cell_type": "code",
   "execution_count": 70,
   "metadata": {},
   "outputs": [
    {
     "name": "stdout",
     "output_type": "stream",
     "text": [
      "eric hembling\n"
     ]
    }
   ],
   "source": [
    "Name = Name.lower()\n",
    "print(Name)\n",
    "#https://www.programiz.com/python-programming/methods/string/lower is where I found help on the lower() command"
   ]
  },
  {
   "cell_type": "code",
   "execution_count": 71,
   "metadata": {},
   "outputs": [
    {
     "name": "stdout",
     "output_type": "stream",
     "text": [
      "Eric Hembling\n"
     ]
    }
   ],
   "source": [
    "Name  = Name.title()\n",
    "print(Name)\n",
    "#https://daviseford.com/blog/2017/04/27/python-string-to-title-including-punctuation.html"
   ]
  },
  {
   "cell_type": "code",
   "execution_count": 72,
   "metadata": {},
   "outputs": [
    {
     "name": "stdout",
     "output_type": "stream",
     "text": [
      "He is Eric Hembling. He is 20 years old. He's from Lake Jackson, TX.\n"
     ]
    }
   ],
   "source": [
    "Str2 = Str1.replace('I am', 'He is')\n",
    "Str2 = Str2.replace(\"I'm\",\"He's\")\n",
    "print(Str2)"
   ]
  },
  {
   "cell_type": "code",
   "execution_count": 74,
   "metadata": {},
   "outputs": [
    {
     "data": {
      "text/plain": [
       "True"
      ]
     },
     "execution_count": 74,
     "metadata": {},
     "output_type": "execute_result"
    }
   ],
   "source": [
    "len(Str1)>(Age+40)\n",
    "#https://www.tutorialspoint.com/python/string_len.htm"
   ]
  },
  {
   "cell_type": "code",
   "execution_count": 75,
   "metadata": {},
   "outputs": [
    {
     "name": "stdout",
     "output_type": "stream",
     "text": [
      "Documentation: Sources documented throughout.\n"
     ]
    }
   ],
   "source": [
    "print(\"Documentation: Sources documented throughout.\")"
   ]
  }
 ],
 "metadata": {
  "kernelspec": {
   "display_name": "Python 3",
   "language": "python",
   "name": "python3"
  },
  "language_info": {
   "codemirror_mode": {
    "name": "ipython",
    "version": 3
   },
   "file_extension": ".py",
   "mimetype": "text/x-python",
   "name": "python",
   "nbconvert_exporter": "python",
   "pygments_lexer": "ipython3",
   "version": "3.6.5"
  }
 },
 "nbformat": 4,
 "nbformat_minor": 2
}
